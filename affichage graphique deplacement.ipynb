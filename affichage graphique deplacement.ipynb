{
 "cells": [
  {
   "cell_type": "code",
   "execution_count": null,
   "metadata": {},
   "outputs": [],
   "source": [
    "np.random.randint(0,3,(5,6))"
   ]
  },
  {
   "cell_type": "code",
   "execution_count": null,
   "metadata": {},
   "outputs": [],
   "source": [
    "def matrice_alea(N):\n",
    "    \n",
    "    M=np.zeros((N,N))\n",
    "    for i in range (0,N):\n",
    "        for j in range (0,N):\n",
    "            al_e=np.random.choice(np.arange(0,5))\n",
    "            al_s=np.random.choice(np.arange(1,3))\n",
    "            al_a=np.random.choice(np.arange(0,100))\n",
    "            if al_e==0:\n",
    "                M[i][j]=1000+al_s*100+al_a\n",
    "            elif al_e==1:\n",
    "                M[i][j]=2000+al_s*100+al_a\n",
    "            elif al_e==2:\n",
    "                M[i][j]=3000+al_s*100+al_a\n",
    "            elif al_e==3:\n",
    "                M[i][j]=4000+al_s*100+al_a\n",
    "            elif al_e==4:\n",
    "                M[i][j]=0\n",
    "    return M\n",
    "Matrice=matrice_alea(50)\n",
    "Matrice \n"
   ]
  },
  {
   "cell_type": "code",
   "execution_count": null,
   "metadata": {
    "collapsed": true
   },
   "outputs": [],
   "source": [
    "def simulation_rattata(temps,l,L):\n",
    "    M=np.zeros((l,L))\n",
    "    M[0][0]=1100\n",
    "    M[0][1]=1200\n",
    "    for i in range(0,temps):\n",
    "        for x in list_ind(M):\n",
    "            i,j=x\n",
    "            Le=voisin(i,j)\n",
    "            if M[i][j]//100==11:\n",
    "                acc,Ma,Ar,Vide=rattataM(Le, M)                \n",
    "            elif M[i][j]//100==12:   \n",
    "                acc,Ma,Ar,Vide=rattataF(Le,M)            \n",
    "            vieillesse(M,i,j)\n",
    "            if M[i,j]!=0:\n",
    "                if len(acc)>0 and len(Vide)>0:\n",
    "                    accouplement_r(i,j,Vide,acc,M)\n",
    "                elif len(Vide)>0:\n",
    "                    deplacement(i,j,Vide,M)\n",
    "\n",
    "           \n",
    "                \n",
    "    return M"
   ]
  },
  {
   "cell_type": "code",
   "execution_count": 25,
   "metadata": {},
   "outputs": [
    {
     "ename": "TclError",
     "evalue": "can't invoke \"pack\" command:  application has been destroyed",
     "output_type": "error",
     "traceback": [
      "\u001b[0;31m---------------------------------------------------------------------------\u001b[0m",
      "\u001b[0;31mTclError\u001b[0m                                  Traceback (most recent call last)",
      "\u001b[0;32m<ipython-input-25-9c5265661ce5>\u001b[0m in \u001b[0;36m<module>\u001b[0;34m()\u001b[0m\n\u001b[1;32m     58\u001b[0m \u001b[0;34m\u001b[0m\u001b[0m\n\u001b[1;32m     59\u001b[0m \u001b[0;34m\u001b[0m\u001b[0m\n\u001b[0;32m---> 60\u001b[0;31m \u001b[0maffichage\u001b[0m\u001b[0;34m(\u001b[0m\u001b[0;34m)\u001b[0m\u001b[0;34m\u001b[0m\u001b[0m\n\u001b[0m",
      "\u001b[0;32m<ipython-input-25-9c5265661ce5>\u001b[0m in \u001b[0;36maffichage\u001b[0;34m()\u001b[0m\n\u001b[1;32m     46\u001b[0m \u001b[0;34m\u001b[0m\u001b[0m\n\u001b[1;32m     47\u001b[0m         \u001b[0mcanvas\u001b[0m\u001b[0;34m.\u001b[0m\u001b[0mupdate\u001b[0m\u001b[0;34m(\u001b[0m\u001b[0;34m)\u001b[0m\u001b[0;34m\u001b[0m\u001b[0m\n\u001b[0;32m---> 48\u001b[0;31m         \u001b[0mcanvas\u001b[0m\u001b[0;34m.\u001b[0m\u001b[0mpack\u001b[0m\u001b[0;34m(\u001b[0m\u001b[0;34m)\u001b[0m\u001b[0;34m\u001b[0m\u001b[0m\n\u001b[0m\u001b[1;32m     49\u001b[0m \u001b[0;34m\u001b[0m\u001b[0m\n\u001b[1;32m     50\u001b[0m     \u001b[0mfenetre\u001b[0m\u001b[0;34m.\u001b[0m\u001b[0mmainloop\u001b[0m\u001b[0;34m(\u001b[0m\u001b[0;34m)\u001b[0m\u001b[0;34m\u001b[0m\u001b[0m\n",
      "\u001b[0;32m/opt/anaconda3/lib/python3.6/tkinter/__init__.py\u001b[0m in \u001b[0;36mpack_configure\u001b[0;34m(self, cnf, **kw)\u001b[0m\n\u001b[1;32m   2135\u001b[0m         self.tk.call(\n\u001b[1;32m   2136\u001b[0m               \u001b[0;34m(\u001b[0m\u001b[0;34m'pack'\u001b[0m\u001b[0;34m,\u001b[0m \u001b[0;34m'configure'\u001b[0m\u001b[0;34m,\u001b[0m \u001b[0mself\u001b[0m\u001b[0;34m.\u001b[0m\u001b[0m_w\u001b[0m\u001b[0;34m)\u001b[0m\u001b[0;34m\u001b[0m\u001b[0m\n\u001b[0;32m-> 2137\u001b[0;31m               + self._options(cnf, kw))\n\u001b[0m\u001b[1;32m   2138\u001b[0m     \u001b[0mpack\u001b[0m \u001b[0;34m=\u001b[0m \u001b[0mconfigure\u001b[0m \u001b[0;34m=\u001b[0m \u001b[0mconfig\u001b[0m \u001b[0;34m=\u001b[0m \u001b[0mpack_configure\u001b[0m\u001b[0;34m\u001b[0m\u001b[0m\n\u001b[1;32m   2139\u001b[0m     \u001b[0;32mdef\u001b[0m \u001b[0mpack_forget\u001b[0m\u001b[0;34m(\u001b[0m\u001b[0mself\u001b[0m\u001b[0;34m)\u001b[0m\u001b[0;34m:\u001b[0m\u001b[0;34m\u001b[0m\u001b[0m\n",
      "\u001b[0;31mTclError\u001b[0m: can't invoke \"pack\" command:  application has been destroyed"
     ]
    }
   ],
   "source": [
    "from tkinter import *\n",
    "import numpy as np\n",
    "import time\n",
    "\n",
    "\n",
    "def affichage(M):\n",
    "    TATA=702\n",
    "    TOTO=725\n",
    "    M=np.random.randint(1,8,(TOTO,TATA))\n",
    "    N=np.random.randint(1,8,(TOTO,TATA))\n",
    "    O=np.random.randint(1,8,(TOTO,TATA))\n",
    "    fenetre=Tk()\n",
    "    fenetre.title('affichage')\n",
    "    img = PhotoImage(master=fenetre,file='gc.pgm')\n",
    "    rattata=PhotoImage(master=fenetre,file='Rattata.pgm')\n",
    "    manglouton=PhotoImage(master=fenetre,file='manglouton1.pgm')\n",
    "    rattatac=PhotoImage(master=fenetre,file='rattatac.pgm')\n",
    "\n",
    "    canvas= Canvas(fenetre, width=733, height=736, background=\"white\")\n",
    "    canvas.create_image(0, 0,anchor=NW, image=img) \n",
    "\n",
    "    case = 92\n",
    "    moy = -(case / 2)\n",
    "\n",
    "    colonne=0\n",
    "    ligne=0\n",
    "    im = canvas.create_image(moy + case * M[ligne,colonne],moy + case * M[colonne,ligne],image=rattata)\n",
    "    v= canvas.create_image(moy+case*N[ligne,colonne],moy+case*N[ligne,colonne],image=manglouton)\n",
    "    z= canvas.create_image(moy+case*O[ligne,colonne],moy+case* O[ligne,colonne],image=rattatac)\n",
    "\n",
    "    for ligne in range (1,TOTO) :\n",
    "        for colonne in range (1,TATA):\n",
    "            canvas.delete(im)\n",
    "            im = canvas.create_image(moy + case * M[ligne,colonne],moy + case * M[colonne,ligne],image=rattata)\n",
    "            canvas.delete(v)\n",
    "            v= canvas.create_image(moy+case* N[ligne,colonne],moy+case * N[colonne,ligne],image=manglouton) \n",
    "            canvas.delete(z)\n",
    "            z= canvas.create_image(moy+case*O[ligne,colonne],moy+case* O[colonne,ligne],image=rattatac)\n",
    "\n",
    "\n",
    "\n",
    "\n",
    "        time.sleep(0.15)\n",
    "\n",
    "\n",
    "\n",
    "        canvas.update()\n",
    "        canvas.pack()\n",
    "\n",
    "    fenetre.mainloop()\n",
    "\n",
    "\n",
    "\n",
    "\n",
    "\n",
    "      \n",
    "        \n",
    "\n",
    "\n",
    "affichage()       "
   ]
  },
  {
   "cell_type": "code",
   "execution_count": null,
   "metadata": {
    "collapsed": true
   },
   "outputs": [],
   "source": []
  },
  {
   "cell_type": "code",
   "execution_count": null,
   "metadata": {
    "collapsed": true
   },
   "outputs": [],
   "source": []
  }
 ],
 "metadata": {
  "kernelspec": {
   "display_name": "Python 3",
   "language": "python",
   "name": "python3"
  },
  "language_info": {
   "codemirror_mode": {
    "name": "ipython",
    "version": 3
   },
   "file_extension": ".py",
   "mimetype": "text/x-python",
   "name": "python",
   "nbconvert_exporter": "python",
   "pygments_lexer": "ipython3",
   "version": "3.6.1"
  }
 },
 "nbformat": 4,
 "nbformat_minor": 2
}
