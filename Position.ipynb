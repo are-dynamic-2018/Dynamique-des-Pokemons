{
 "cells": [
  {
   "cell_type": "code",
   "execution_count": 1,
   "metadata": {},
   "outputs": [],
   "source": [
    "import math"
   ]
  },
  {
   "cell_type": "code",
   "execution_count": null,
   "metadata": {},
   "outputs": [],
   "source": [
    "def position(i,j):\n",
    "    if i==0:\n",
    "        if j==0:\n",
    "            return \"CoinSupG\"\n",
    "        elif j==len(M)-1:\n",
    "            return \"CoinSupD\"\n",
    "        else:\n",
    "            return \"CotHaut\"\n",
    "    elif j==0\n",
    "        if i==len(M)-1:\n",
    "            return \"CoinBasG\"\n",
    "        else :\n",
    "            return \"CotG\"\n",
    "    elif j==len(M)-1:\n",
    "        if i==len(M)-1:\n",
    "            return \"CoinBasD\"\n",
    "        else:\n",
    "            return \"CotD\"\n",
    "    elif i==len(M):\n",
    "        return \"CoteBas\"\n",
    "    else:\n",
    "        return \"Milieu\""
   ]
  },
  {
   "cell_type": "code",
   "execution_count": null,
   "metadata": {},
   "outputs": [],
   "source": [
    "for i in range(0,len(M)):\n",
    "    for j in range(0,len(M)):\n",
    "        "
   ]
  }
 ],
 "metadata": {
  "kernelspec": {
   "display_name": "Python 3",
   "language": "python",
   "name": "python3"
  },
  "language_info": {
   "codemirror_mode": {
    "name": "ipython",
    "version": 3
   },
   "file_extension": ".py",
   "mimetype": "text/x-python",
   "name": "python",
   "nbconvert_exporter": "python",
   "pygments_lexer": "ipython3",
   "version": "3.6.4"
  }
 },
 "nbformat": 4,
 "nbformat_minor": 2
}
