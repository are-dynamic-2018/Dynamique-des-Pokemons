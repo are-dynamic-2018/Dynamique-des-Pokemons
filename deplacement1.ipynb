{
 "cells": [
  {
   "cell_type": "markdown",
   "metadata": {},
   "source": [
    "## Deplacement d'un individu"
   ]
  },
  {
   "cell_type": "code",
   "execution_count": 1,
   "metadata": {
    "collapsed": false
   },
   "outputs": [],
   "source": [
    "import matplotlib"
   ]
  },
  {
   "cell_type": "code",
   "execution_count": 2,
   "metadata": {
    "collapsed": true
   },
   "outputs": [],
   "source": [
    "import numpy as numpy"
   ]
  },
  {
   "cell_type": "code",
   "execution_count": 92,
   "metadata": {
    "collapsed": false
   },
   "outputs": [
    {
     "data": {
      "text/plain": [
       "array([[    0.,     0.,     0., ...,     0.,     0.,     0.],\n",
       "       [    0.,  1200.,  1100., ...,     0.,     0.,     0.],\n",
       "       [    0.,     0.,     0., ...,     0.,     0.,     0.],\n",
       "       ..., \n",
       "       [    0.,     0.,     0., ...,     0.,     0.,     0.],\n",
       "       [    0.,     0.,     0., ...,     0.,     0.,     0.],\n",
       "       [    0.,     0.,     0., ...,     0.,     0.,     0.]])"
      ]
     },
     "execution_count": 92,
     "metadata": {},
     "output_type": "execute_result"
    }
   ],
   "source": [
    "import numpy as np\n",
    "#case vide\n",
    "v=0\n",
    "N=50\n",
    "M=np.zeros((N,N))\n",
    "M[1][1]=1200\n",
    "M[1][2]=1100\n",
    "M\n",
    "\n"
   ]
  },
  {
   "cell_type": "code",
   "execution_count": null,
   "metadata": {
    "collapsed": true
   },
   "outputs": [],
   "source": [
    "#premiere idee pour le deplacement (pas pratique puisque c'est du cas par cas)\n",
    "def deplacement(M):\n",
    "    for i in range(0,N):\n",
    "        for j in range(0,N):\n",
    "            \n",
    "            if M[i][j]!=('_','_',0): #on vérifie qu'il s'agit d'un individu\n",
    "                if i ==0 and j==0:#le cas où l'individu se trouve dans le coin supérieur gauche\n",
    "                    #il se déplace en fonction des voisins présents dans les cases adjacentes\n",
    "                    #le cas où il n'a qu'un seul voisin :\n",
    "                    if(M[i+1][j]!=('_','_',0)and M[i+1][j+1]==('_','_',0) and M[i][j+1]==('_','_',0)):#le cas où celui-ci\n",
    "#à un voisin en M[i+1][j] \n",
    "                        al = np.random.choice(np.arrange(0,1))\n",
    "                        if al==0:\n",
    "                            M[i][j+1]=M[i][j]\n",
    "                            M[i][j]=('_','_',0)\n",
    "                        else:\n",
    "                            M[i+1][j+1]=M[i][j]\n",
    "                            M[i][j]=('_','_',0)\n",
    "                    elif(M[i+1][j+1]!=('_','_',0) and M[i+1][j]==('_','_',0) and M[i][j+1]==('_','_',0)):# un voisin en\n",
    "#M[i+1][j+1]\n",
    "                        al = np.random.choice(np.arrange(0,1))\n",
    "                        if al ==0:\n",
    "                            M[i+1][j]==M[i][j]\n",
    "                            M[i][j]==('_','_',0)\n",
    "                        else:\n",
    "                            M[i][j+1]=M[i][j]\n",
    "                            M[i][j]=('_','_',0)\n",
    "                    elif M[i][j+1]!=('_','_',0) and M[i+1][j]==('_','_',0) and M[i+1][j+1]==('_','_',0):# un voisin en\n",
    "#M[i][j+1]\n",
    "                        al=np.random.choice(np.arrange(0,1))\n",
    "                        if al==0:\n",
    "                            M[i+1][j]=M[i][j]\n",
    "                            M[i][j]=('_','_',0)\n",
    "                        else:\n",
    "                            M[i+1][j+1]=M[i][j]\n",
    "                            M[i][j]=('_','_',0)\n",
    "                    elif M[i][j+1]!=('_','_',0) and M[i+1][j]!=('_','_',0) and M[i+1][j+1]==('_','_',0):\n",
    "                        M[i+1][j+1]=M[i][j]\n",
    "                        M[i][j]=('_','_',0)\n",
    "                    elif M[i][j+1]!=('_','_',0) and M[i+1][j+1]!=('_','_',0) and M[i+1][j]==('_','_',0):\n",
    "                        M[i+1][j]=M[i][j]\n",
    "                        M[i][j]=('_','_',0)\n",
    "                    elif M[i+1][j+1]!=('_','_',0) and M[i+1][j]!=('_','_',0) and M[i][j+1]==('_','_',0):\n",
    "                        M[i][j+1]=M[i][j]\n",
    "                        M[i][j]=('_','_',0)\n",
    "                    elif M[i+1][j+1]==('_','_',0) and M[i+1][j]==('_','_',0) and M[i][j+1]==('_','_',0):\n",
    "                        al= np.random.choice(np.arrange(0,2))\n",
    "                        if al==0:\n",
    "                            M[i+1][j]=M[i][j]\n",
    "                            M[i][j]=('_','_',0)\n",
    "                        if al==1:\n",
    "                            M[i+1][j+1]=M[i][j]\n",
    "                            M[i][j]=('_','_',0)\n",
    "                        else:\n",
    "                            M[i][j+1]=M[i][j]\n",
    "                            M[i][j]=('_','_',0)\n",
    "                            \n",
    "                            \n",
    "                            \n",
    "                            \n",
    "                            \n",
    "                            \n",
    "                            \n",
    "                            M[i][j]=0"
   ]
  },
  {
   "cell_type": "code",
   "execution_count": 73,
   "metadata": {
    "collapsed": false
   },
   "outputs": [
    {
     "name": "stdout",
     "output_type": "stream",
     "text": [
      "age=\n",
      "1202.0\n",
      "Ici\n",
      "1 1\n"
     ]
    },
    {
     "data": {
      "text/plain": [
       "array([[    0.,     0.,     0., ...,     0.,     0.,     0.],\n",
       "       [    0.,  1202.,     0., ...,     0.,     0.,     0.],\n",
       "       [    0.,     0.,     0., ...,     0.,     0.,     0.],\n",
       "       ..., \n",
       "       [    0.,     0.,     0., ...,     0.,     0.,     0.],\n",
       "       [    0.,     0.,     0., ...,     0.,     0.,     0.],\n",
       "       [    0.,     0.,     0., ...,     0.,     0.,     0.]])"
      ]
     },
     "execution_count": 73,
     "metadata": {},
     "output_type": "execute_result"
    }
   ],
   "source": [
    "for i in range(0,len(M)):\n",
    "    for j in range(0,len(M)):\n",
    "        if M[i][j] > 0 and M[i,j]<10000:\n",
    "            Lr=[]\n",
    "            #age\n",
    "            if M[i][j]%100==99:\n",
    "                M[i][j]=0\n",
    "            M[i][j]=M[i][j]+1\n",
    "            print('age=')\n",
    "            print(M[i][j])\n",
    "            n=np.random.choice(99)      \n",
    "            if M[i][j]%100>n:\n",
    "                M[i][j]=0 \n",
    "            \n",
    "            if M[i][j]>0:\n",
    "                #coin supérieur gauche\n",
    "                if i ==0 and j==0:\n",
    "                    print(\"Ici\")\n",
    "                    if M[i][j+1]==v:\n",
    "                        x=(i,j+1)\n",
    "                        Lr.append(x)\n",
    "                    if M[i+1][j]==v:\n",
    "                        x=(i+1,j)\n",
    "                        Lr.append(x)\n",
    "                    if M[i+1][j+1]==v:\n",
    "                        x=(i+1,j+1)\n",
    "                        Lr.append(x)\n",
    "\n",
    "                #coin supérieur droit        \n",
    "                elif i==0 and j==len(M)-1:\n",
    "                    if M[i][j-1]==v:\n",
    "                        x=(i,j-1)\n",
    "                        Lr.append(x)\n",
    "                    if M[i+1][j]==v:\n",
    "                        x=(i+1,j)\n",
    "                        Lr.append(x)\n",
    "                    if M[i+1][j-1]==v:\n",
    "                        x=(i+1,j-1)\n",
    "                        Lr.append(x)\n",
    "\n",
    "                #coin bas à gauche\n",
    "                elif i==len(M)-1 and j==0:\n",
    "                    if M[i-1][j]==v:\n",
    "                        x=(i-1,j)\n",
    "                        Lr.append(x)\n",
    "                    if M[i-1][j+1]==v:\n",
    "                        x=(i-1,j+1)\n",
    "                        Lr.append(x)\n",
    "                    if M[i][j+1]==v:\n",
    "                        x=(i,j+1)\n",
    "                        Lr.append(x)   \n",
    "\n",
    "                #coin bas à droite\n",
    "                elif i==len(M)-1 and j==len(M)-1:\n",
    "                    if M[i-1][j]==v:\n",
    "                        x=(i-1,j)\n",
    "                        Lr.append(x)\n",
    "                    if M[i-1][j-1]==v:\n",
    "                        x=(i-1,j-1)\n",
    "                        Lr.append(x)\n",
    "                    if M[i][j-1]==v:\n",
    "                        x=(i,j-1)\n",
    "                        Lr.append(x)\n",
    "\n",
    "                #bordure gauche\n",
    "                elif j==0 and i!=0 and i!=len(M)-1:\n",
    "                    if M[i-1][j]==v:\n",
    "                        x=(i-1,j)\n",
    "                        Lr.append(x)\n",
    "                    if M[i-1][j+1]==v:\n",
    "                        x=(i-1,j+1)\n",
    "                        Lr.append(x)\n",
    "                    if M[i][j+1]==v:\n",
    "                        x=(i,j+1)\n",
    "                        Lr.append(x)\n",
    "                    if M[i+1][j]==v:\n",
    "                        x=(i+1,j)\n",
    "                        Lr.append(x)\n",
    "                    if M[i+1][j+1]==v:\n",
    "                        x=(i+1,j+1)\n",
    "                        Lr.append(x)\n",
    "\n",
    "                #bordure bas\n",
    "                elif j!=0 and j!=len(M)-1 and i==len(M)-1: \n",
    "                    if M[i-1][j-1]==v:\n",
    "                        x=(i-1,j-1)\n",
    "                        Lr.append(x)\n",
    "                    if M[i-1][j]==v:\n",
    "                        x=(i-1,j)\n",
    "                        Lr.append(x)\n",
    "                    if M[i-1][j+1]==v:\n",
    "                        x=(i-1,j+1)\n",
    "                        Lr.append(x)\n",
    "                    if M[i][j-1]==v:\n",
    "                        x=(i,j-1)\n",
    "                        Lr.append(x)\n",
    "                    if M[i][j+1]==v:\n",
    "                        x=(i,j+1)\n",
    "                        Lr.append(x)\n",
    "\n",
    "                #bordure haut\n",
    "                elif j!=0 and i==0 and j!=len(M)-1:\n",
    "                    if M[i][j-1]==v:\n",
    "                        x=(i,j-1)\n",
    "                        Lr.append(x)\n",
    "                    if M[i][j+1]==v:\n",
    "                        x=(i,j+1)\n",
    "                        Lr.append(x)\n",
    "                    if M[i+1][j-1]==v:\n",
    "                        x=(i+1,j-1)\n",
    "                        Lr.append(x)\n",
    "                    if M[i+1][j]==v:\n",
    "                        x=(i+1,j)\n",
    "                        Lr.append(x)\n",
    "                    if M[i+1][j+1]==v:\n",
    "                        x=(i+1,j+1)\n",
    "                        Lr.append(x)   \n",
    "\n",
    "                #bordure droite            \n",
    "                elif j==len(M)-1 and i!=len(M)-1 and i!=0:    \n",
    "                    if M[i-1][j-1]==v:\n",
    "                        x=(i-1,j-1)\n",
    "                        Lr.append(x)\n",
    "                    if M[i-1][j]==v:\n",
    "                        x=(i-1,j)\n",
    "                        Lr.append(x)\n",
    "                    if M[i][j-1]==v:\n",
    "                        x=(i,j-1)\n",
    "                        Lr.append(x)\n",
    "                    if M[i+1][j-1]==v:\n",
    "                        x=(i+1,j-1)\n",
    "                        Lr.append(x)\n",
    "                    if M[i+1][j]==v:\n",
    "                        x=(i+1,j)\n",
    "                        Lr.append(x)\n",
    "\n",
    "                #cas general\n",
    "                else:\n",
    "                    print(\"Là\")\n",
    "                    if M[i-1][j-1]==v:\n",
    "                        x=(i-1,j-1)\n",
    "                        Lr.append(x)\n",
    "                    if M[i-1][j]==v:\n",
    "                        x=(i-1,j)\n",
    "                        Lr.append(x)\n",
    "                    if M[i-1][j+1]==v:\n",
    "                        x=(i-1,j+1)\n",
    "                        Lr.append(x)\n",
    "                    if M[i][j-1]==v:\n",
    "                        x=(i,j-1)\n",
    "                        Lr.append(x)\n",
    "                    if M[i][j+1]==v:\n",
    "                        x=(i,j+1)\n",
    "                        Lr.append(x)\n",
    "                    if M[i+1][j-1]==v:\n",
    "                        x=(i+1,j-1)\n",
    "                        Lr.append(x)\n",
    "                    if M[i+1][j]==v:\n",
    "                        x=(i+1,j)\n",
    "                        Lr.append(x)\n",
    "                    if M[i+1][j+1]==v:\n",
    "                        x=(i+1,j+1)\n",
    "                        Lr.append(x)\n",
    "\n",
    "\n",
    "\n",
    "                if len(Lr)>0:         \n",
    "                    n=np.random.choice(np.arange(0,len(Lr)))\n",
    "                    x,y=Lr[n]\n",
    "                    M[x,y]=M[i,j]+10000\n",
    "                    print(x,y)\n",
    "                    M[i,j]=v \n",
    "         \n",
    "\n",
    "        \n",
    "for i in range(0,len(M)):\n",
    "    for j in range(0,len(M)):\n",
    "        if(M[i][j]>10000):\n",
    "            M[i][j]=M[i][j]-10000\n",
    "            \n",
    "            \n",
    "M"
   ]
  },
  {
   "cell_type": "code",
   "execution_count": 74,
   "metadata": {
    "collapsed": false
   },
   "outputs": [
    {
     "data": {
      "text/plain": [
       "(array([1]), array([1]))"
      ]
     },
     "execution_count": 74,
     "metadata": {},
     "output_type": "execute_result"
    }
   ],
   "source": [
    "np.where(M == 1202)"
   ]
  },
  {
   "cell_type": "code",
   "execution_count": 26,
   "metadata": {
    "collapsed": true
   },
   "outputs": [],
   "source": [
    "t = \"foo\""
   ]
  },
  {
   "cell_type": "code",
   "execution_count": 27,
   "metadata": {
    "collapsed": false
   },
   "outputs": [
    {
     "data": {
      "text/plain": [
       "'foo'"
      ]
     },
     "execution_count": 27,
     "metadata": {},
     "output_type": "execute_result"
    }
   ],
   "source": [
    "t"
   ]
  },
  {
   "cell_type": "code",
   "execution_count": 28,
   "metadata": {
    "collapsed": true
   },
   "outputs": [],
   "source": [
    "t = 42"
   ]
  },
  {
   "cell_type": "code",
   "execution_count": 29,
   "metadata": {
    "collapsed": false
   },
   "outputs": [
    {
     "data": {
      "text/plain": [
       "42"
      ]
     },
     "execution_count": 29,
     "metadata": {},
     "output_type": "execute_result"
    }
   ],
   "source": [
    "t"
   ]
  },
  {
   "cell_type": "code",
   "execution_count": 41,
   "metadata": {
    "collapsed": false
   },
   "outputs": [
    {
     "data": {
      "text/plain": [
       "0"
      ]
     },
     "execution_count": 41,
     "metadata": {},
     "output_type": "execute_result"
    }
   ],
   "source": [
    "4//5\n"
   ]
  },
  {
   "cell_type": "code",
   "execution_count": 44,
   "metadata": {
    "collapsed": false
   },
   "outputs": [
    {
     "data": {
      "text/plain": [
       "0"
      ]
     },
     "execution_count": 44,
     "metadata": {},
     "output_type": "execute_result"
    }
   ],
   "source": [
    "1225//10000\n"
   ]
  },
  {
   "cell_type": "code",
   "execution_count": 47,
   "metadata": {
    "collapsed": false
   },
   "outputs": [
    {
     "data": {
      "text/plain": [
       "99"
      ]
     },
     "execution_count": 47,
     "metadata": {},
     "output_type": "execute_result"
    }
   ],
   "source": [
    "11199%100\n"
   ]
  },
  {
   "cell_type": "code",
   "execution_count": null,
   "metadata": {
    "collapsed": true
   },
   "outputs": [],
   "source": [
    "def accouplement():\n",
    "    L_a=[]\n",
    "    if(M[i][j]//100==(M[i][j+1]//100)-1):\n",
    "        x=(i,j+1)\n",
    "        L_a.append(x)\n",
    "    if (M[i][j]//100==(M[i][j-1]//100)-1):\n",
    "        x=(i,j-1)\n",
    "        L_a.append(x)\n",
    "    if (M[i][j]//100==(M[i-1][j]//100)-1):\n",
    "        x=(i-1,j)\n",
    "        L_a.append(x)\n",
    "    if (M[i][j]//100==(M[i+1][j]//100)-1):\n",
    "        x=(i+1,j)\n",
    "        L_a.append(x)\n",
    "    if (M[i][j]//100==(M[i-1][j-1]//100)-1):\n",
    "        x=\n",
    "    \n",
    "    \n",
    "    \n",
    "    \n",
    "    \n",
    "    \n",
    "    \n",
    "    \n",
    "    "
   ]
  },
  {
   "cell_type": "code",
   "execution_count": 93,
   "metadata": {
    "collapsed": false
   },
   "outputs": [
    {
     "name": "stdout",
     "output_type": "stream",
     "text": [
      "age=\n",
      "1201.0\n",
      "Là\n",
      "Là\n",
      "age=\n",
      "1101.0\n",
      "Là\n",
      "Là\n",
      "0 2\n"
     ]
    },
    {
     "data": {
      "text/plain": [
       "array([[    0.,     0.,  1101., ...,     0.,     0.,     0.],\n",
       "       [    0.,  1201.,     0., ...,     0.,     0.,     0.],\n",
       "       [    0.,     0.,  1201., ...,     0.,     0.,     0.],\n",
       "       ..., \n",
       "       [    0.,     0.,     0., ...,     0.,     0.,     0.],\n",
       "       [    0.,     0.,     0., ...,     0.,     0.,     0.],\n",
       "       [    0.,     0.,     0., ...,     0.,     0.,     0.]])"
      ]
     },
     "execution_count": 93,
     "metadata": {},
     "output_type": "execute_result"
    }
   ],
   "source": [
    "for i in range(0,len(M)):\n",
    "    for j in range(0,len(M)):\n",
    "        if M[i][j] > 0 and M[i,j]<10000:\n",
    "            #liste des proies potentielles\n",
    "            Lp=[]\n",
    "            #liste des potentiels partenaires sexuels pour l accouplement\n",
    "            La=[]\n",
    "            #liste des potentiels cases de déplacements\n",
    "            Lr=[]\n",
    "            #age\n",
    "            if M[i][j]%100==99:\n",
    "                M[i][j]=0\n",
    "            M[i][j]=M[i][j]+1\n",
    "            print('age=')\n",
    "            print(M[i][j])\n",
    "            n=np.random.choice(99)      \n",
    "            if M[i][j]%100>n:\n",
    "                M[i][j]=0 \n",
    "            \n",
    "            if M[i][j]>0:\n",
    "                #coin supérieur gauche\n",
    "                if i ==0 and j==0:\n",
    "                    #selection du predateur\n",
    "                    if M[i][j]//1000==2:\n",
    "                        #analyse des potentiels proies\n",
    "                        if M[i][j+1]//1000==1:\n",
    "                            x=(i,j+1)\n",
    "                            Lp.append(x)\n",
    "                        if M[i+1][j]//1000==1:\n",
    "                            x=(i+1,j)\n",
    "                            Lp.append(x)\n",
    "                        if M[i+1][j+1]//1000==1:\n",
    "                            x=(i+1,j+1)\n",
    "                            Lp.append(x) \n",
    "                    #l'individu femelle regarde si il peut s accoupler avec un de ses voisins\n",
    "                    if M[i][j]//100==M[i][j+1]//100+1:\n",
    "                        x=(i,j+1)\n",
    "                        La.append(x)\n",
    "                    if M[i+1][j]//100+1==M[i][j]//100:\n",
    "                        x=(i+1,j)\n",
    "                        La.append(x)\n",
    "                    if M[i+1][j+1]//100+1==M[i][j]//100:\n",
    "                        x=(i+1,j+1)\n",
    "                        La.append(x)\n",
    "                        #pour qu'il y ait accouplement il faut aussi qu'il y ait une case vide autour de la femelle\n",
    "                        #la liste Lr devient un outil idéal pour stocker tous les emplacements de naissance possible\n",
    "                    print(\"Ici\")\n",
    "                    if M[i][j+1]==v:\n",
    "                        x=(i,j+1)\n",
    "                        Lr.append(x)\n",
    "                    if M[i+1][j]==v:\n",
    "                        x=(i+1,j)\n",
    "                        Lr.append(x)\n",
    "                    if M[i+1][j+1]==v:\n",
    "                        x=(i+1,j+1)\n",
    "                        Lr.append(x)\n",
    "                #####TU EN ES LA\n",
    "                #coin supérieur droit        \n",
    "                elif i==0 and j==len(M)-1:\n",
    "                    #selection du predateur\n",
    "                    if M[i][j]//1000==2:\n",
    "                        if M[i][j-1]//1000==1:\n",
    "                            x=(i,j-1)\n",
    "                            Lp.append(x)\n",
    "                        if M[i+1][j]//1000==1:\n",
    "                            x=(i+1,j)\n",
    "                            Lp.append(x)\n",
    "                        if M[i+1][j-1]//1000==1:\n",
    "                            x=(i+1,j-1)\n",
    "                            Lp.append(x)\n",
    "                    #accouplement\n",
    "                    if M[i][j-1]//100+1==M[i][j]//100:\n",
    "                        x=(i,j-1)\n",
    "                        La.append(x)\n",
    "                    if M[i+1][j]//100+1==M[i][j]//100:\n",
    "                        x=(i+1,j)\n",
    "                        La.append(x)\n",
    "                    if M[i+1][j-1]//100+1==M[i][j]//100:\n",
    "                        x=(i+1,j-1)\n",
    "                        La.append(x)\n",
    "                    #déplacement ou emplacement de naissance si un dividu de sexe opposé à proximité\n",
    "                    if M[i][j-1]==v:\n",
    "                        x=(i,j-1)\n",
    "                        Lr.append(x)\n",
    "                    if M[i+1][j]==v:\n",
    "                        x=(i+1,j)\n",
    "                        Lr.append(x)\n",
    "                    if M[i+1][j-1]==v:\n",
    "                        x=(i+1,j-1)\n",
    "                        Lr.append(x)\n",
    "\n",
    "                #coin bas à gauche\n",
    "                elif i==len(M)-1 and j==0:\n",
    "                    if M[i-1][j]//100+1==M[i][j]//100:\n",
    "                        x=(i-1,j)\n",
    "                        La.append(x)\n",
    "                    if M[i-1][j+1]//100+1==M[i][j]//100:\n",
    "                        x=(i-1,j+1)\n",
    "                        La.append(x)\n",
    "                    if M[i][j+1]//100+1==M[i][j]//100:\n",
    "                        x=(i,j+1)\n",
    "                        La.append(x) \n",
    "                    if M[i-1][j]==v:\n",
    "                        x=(i-1,j)\n",
    "                        Lr.append(x)\n",
    "                    if M[i-1][j+1]==v:\n",
    "                        x=(i-1,j+1)\n",
    "                        Lr.append(x)\n",
    "                    if M[i][j+1]==v:\n",
    "                        x=(i,j+1)\n",
    "                        Lr.append(x)   \n",
    "\n",
    "                #coin bas à droite\n",
    "                elif i==len(M)-1 and j==len(M)-1:\n",
    "                    #reproduction\n",
    "                    if M[i-1][j]//100+1==M[i][j]//100:\n",
    "                        x=(i-1,j)\n",
    "                        La.append(x)\n",
    "                    if M[i-1][j-1]//100+1==M[i][j]//100:\n",
    "                        x=(i-1,j-1)\n",
    "                        La.append(x)\n",
    "                    if M[i][j-1]//100+1==M[i][j]//100:\n",
    "                        x=(i,j-1)\n",
    "                        La.append(x)\n",
    "                    #déplacement ou emplacement de naissance\n",
    "                    if M[i-1][j]==v:\n",
    "                        x=(i-1,j)\n",
    "                        Lr.append(x)\n",
    "                    if M[i-1][j-1]==v:\n",
    "                        x=(i-1,j-1)\n",
    "                        Lr.append(x)\n",
    "                    if M[i][j-1]==v:\n",
    "                        x=(i,j-1)\n",
    "                        Lr.append(x)\n",
    "\n",
    "                #bordure gauche\n",
    "                elif j==0 and i!=0 and i!=len(M)-1:\n",
    "                    #accouplement\n",
    "                    if M[i-1][j]//100+1==M[i][j]//100:\n",
    "                        x=(i-1,j)\n",
    "                        Lr.append(x)\n",
    "                    if M[i-1][j+1]//100+1==M[i][j]//100:\n",
    "                        x=(i-1,j+1)\n",
    "                        Lr.append(x)\n",
    "                    if M[i][j+1]//100+1==M[i][j]//100:\n",
    "                        x=(i,j+1)\n",
    "                        Lr.append(x)\n",
    "                    if M[i+1][j]//100+1==M[i][j]//100:\n",
    "                        x=(i+1,j)\n",
    "                        Lr.append(x)\n",
    "                    if M[i+1][j+1]//100+1==M[i][j]//100:\n",
    "                        x=(i+1,j+1)\n",
    "                        Lr.append(x)\n",
    "                    #déplacement ou emplacement\n",
    "                    if M[i-1][j]==v:\n",
    "                        x=(i-1,j)\n",
    "                        Lr.append(x)\n",
    "                    if M[i-1][j+1]==v:\n",
    "                        x=(i-1,j+1)\n",
    "                        Lr.append(x)\n",
    "                    if M[i][j+1]==v:\n",
    "                        x=(i,j+1)\n",
    "                        Lr.append(x)\n",
    "                    if M[i+1][j]==v:\n",
    "                        x=(i+1,j)\n",
    "                        Lr.append(x)\n",
    "                    if M[i+1][j+1]==v:\n",
    "                        x=(i+1,j+1)\n",
    "                        Lr.append(x)\n",
    "\n",
    "                #bordure bas\n",
    "                elif j!=0 and j!=len(M)-1 and i==len(M)-1:\n",
    "                    #reproduction\n",
    "                    if M[i-1][j-1]//100==M[i][j]//100:\n",
    "                        x=(i-1,j-1)\n",
    "                        La.append(x)\n",
    "                    if M[i-1][j]//100+1==M[i][j]//100:\n",
    "                        x=(i-1,j)\n",
    "                        La.append(x)\n",
    "                    if M[i-1][j+1]//100+1==M[i][j]//100:\n",
    "                        x=(i-1,j+1)\n",
    "                        La.append(x)\n",
    "                    if M[i][j-1]//100+1==M[i][j]//100:\n",
    "                        x=(i,j-1)\n",
    "                        La.append(x)\n",
    "                    if M[i][j+1]//100+1==M[i][j]//100:\n",
    "                        x=(i,j+1)\n",
    "                        La.append(x)\n",
    "                    #depacement ou emplacement de naissance\n",
    "                    if M[i-1][j-1]==v:\n",
    "                        x=(i-1,j-1)\n",
    "                        Lr.append(x)\n",
    "                    if M[i-1][j]==v:\n",
    "                        x=(i-1,j)\n",
    "                        Lr.append(x)\n",
    "                    if M[i-1][j+1]==v:\n",
    "                        x=(i-1,j+1)\n",
    "                        Lr.append(x)\n",
    "                    if M[i][j-1]==v:\n",
    "                        x=(i,j-1)\n",
    "                        Lr.append(x)\n",
    "                    if M[i][j+1]==v:\n",
    "                        x=(i,j+1)\n",
    "                        Lr.append(x)\n",
    "\n",
    "                #bordure haut\n",
    "                elif j!=0 and i==0 and j!=len(M)-1:\n",
    "                    #reproduction\n",
    "                    if M[i][j-1]//100+1==M[i][j]//100:\n",
    "                        x=(i,j-1)\n",
    "                        La.append(x)\n",
    "                    if M[i][j+1]//100+1==M[i][j]//100:\n",
    "                        x=(i,j+1)\n",
    "                        La.append(x)\n",
    "                    if M[i+1][j-1]//100+1==M[i][j]//100:\n",
    "                        x=(i+1,j-1)\n",
    "                        La.append(x)\n",
    "                    if M[i+1][j]//100+1==M[i][j]//100:\n",
    "                        x=(i+1,j)\n",
    "                        La.append(x)\n",
    "                    if M[i+1][j+1]//100+1==M[i][j]//100:\n",
    "                        x=(i+1,j+1)\n",
    "                        La.append(x)   \n",
    "                    #deplacement ou emplacement de naissance\n",
    "                    if M[i][j-1]==v:\n",
    "                        x=(i,j-1)\n",
    "                        Lr.append(x)\n",
    "                    if M[i][j+1]==v:\n",
    "                        x=(i,j+1)\n",
    "                        Lr.append(x)\n",
    "                    if M[i+1][j-1]==v:\n",
    "                        x=(i+1,j-1)\n",
    "                        Lr.append(x)\n",
    "                    if M[i+1][j]==v:\n",
    "                        x=(i+1,j)\n",
    "                        Lr.append(x)\n",
    "                    if M[i+1][j+1]==v:\n",
    "                        x=(i+1,j+1)\n",
    "                        Lr.append(x)   \n",
    "\n",
    "                #bordure droite            \n",
    "                elif j==len(M)-1 and i!=len(M)-1 and i!=0:\n",
    "                    #reproduction\n",
    "                    if M[i-1][j-1]//100+1==M[i][j]//100:\n",
    "                        x=(i-1,j-1)\n",
    "                        La.append(x)\n",
    "                    if M[i-1][j]//100+1==M[i][j]//100:\n",
    "                        x=(i-1,j)\n",
    "                        La.append(x)\n",
    "                    if M[i][j-1]//100+1==M[i][j]//100:\n",
    "                        x=(i,j-1)\n",
    "                        La.append(x)\n",
    "                    if M[i+1][j-1]//100+1==M[i][j]//100:\n",
    "                        x=(i+1,j-1)\n",
    "                        La.append(x)\n",
    "                    if M[i+1][j]//100+1==M[i][j]//100:\n",
    "                        x=(i+1,j)\n",
    "                        La.append(x)\n",
    "\n",
    "                    #deplacement ou emplacement de naissance\n",
    "                    if M[i-1][j-1]==v:\n",
    "                        x=(i-1,j-1)\n",
    "                        Lr.append(x)\n",
    "                    if M[i-1][j]==v:\n",
    "                        x=(i-1,j)\n",
    "                        Lr.append(x)\n",
    "                    if M[i][j-1]==v:\n",
    "                        x=(i,j-1)\n",
    "                        Lr.append(x)\n",
    "                    if M[i+1][j-1]==v:\n",
    "                        x=(i+1,j-1)\n",
    "                        Lr.append(x)\n",
    "                    if M[i+1][j]==v:\n",
    "                        x=(i+1,j)\n",
    "                        Lr.append(x)\n",
    "\n",
    "                #cas general\n",
    "                else:\n",
    "                    #reproduction\n",
    "                    print(\"Là\")\n",
    "                    if M[i-1][j-1]//100+1==M[i][j]//100:\n",
    "                        x=(i-1,j-1)\n",
    "                        La.append(x)\n",
    "                    if M[i-1][j]//100+1==M[i][j]//100:\n",
    "                        x=(i-1,j)\n",
    "                        La.append(x)\n",
    "                    if M[i-1][j+1]//100+1==M[i][j]//100:\n",
    "                        x=(i-1,j+1)\n",
    "                        La.append(x)\n",
    "                    if M[i][j-1]//100+1==M[i][j]//100:\n",
    "                        x=(i,j-1)\n",
    "                        La.append(x)\n",
    "                    if M[i][j+1]//100+1==M[i][j]//100:\n",
    "                        x=(i,j+1)\n",
    "                        La.append(x)\n",
    "                    if M[i+1][j-1]//100+1==M[i][j]//100:\n",
    "                        x=(i+1,j-1)\n",
    "                        La.append(x)\n",
    "                    if M[i+1][j]//100+1==M[i][j]//100:\n",
    "                        x=(i+1,j)\n",
    "                        La.append(x)\n",
    "                    if M[i+1][j+1]//100+1==M[i][j]//100:\n",
    "                        x=(i+1,j+1)\n",
    "                        La.append(x)\n",
    "                    #deplacement ou emplacement de naissance\n",
    "                    print(\"Là\")\n",
    "                    if M[i-1][j-1]==v:\n",
    "                        x=(i-1,j-1)\n",
    "                        Lr.append(x)\n",
    "                    if M[i-1][j]==v:\n",
    "                        x=(i-1,j)\n",
    "                        Lr.append(x)\n",
    "                    if M[i-1][j+1]==v:\n",
    "                        x=(i-1,j+1)\n",
    "                        Lr.append(x)\n",
    "                    if M[i][j-1]==v:\n",
    "                        x=(i,j-1)\n",
    "                        Lr.append(x)\n",
    "                    if M[i][j+1]==v:\n",
    "                        x=(i,j+1)\n",
    "                        Lr.append(x)\n",
    "                    if M[i+1][j-1]==v:\n",
    "                        x=(i+1,j-1)\n",
    "                        Lr.append(x)\n",
    "                    if M[i+1][j]==v:\n",
    "                        x=(i+1,j)\n",
    "                        Lr.append(x)\n",
    "                    if M[i+1][j+1]==v:\n",
    "                        x=(i+1,j+1)\n",
    "                        Lr.append(x)\n",
    "\n",
    "\n",
    "                if len(Lr)>0 and len(La)>0:\n",
    "                    if  np.random.choice(np.arange(0,100))<10:\n",
    "                        n=np.random.choice(np.arange(0,len(Lr)))\n",
    "                        x,y=Lr[n]\n",
    "                        M[x,y]=(M[i][j]//1000)*1000+np.random.choice(np.arange(1,2))*100\n",
    "                        M[x,y]=M[i,j]+10000\n",
    "                        M[i][j]=M[i][j]+10000\n",
    "                elif len(Lr)>0:         \n",
    "                    n=np.random.choice(np.arange(0,len(Lr)))\n",
    "                    x,y=Lr[n]\n",
    "                    M[x,y]=M[i,j]+10000\n",
    "                    print(x,y)\n",
    "                    M[i,j]=v \n",
    "\n",
    "\n",
    "        \n",
    "for i in range(0,len(M)):\n",
    "    for j in range(0,len(M)):\n",
    "        if(M[i][j]>10000):\n",
    "            M[i][j]=M[i][j]-10000\n",
    "M"
   ]
  },
  {
   "cell_type": "code",
   "execution_count": 88,
   "metadata": {
    "collapsed": false
   },
   "outputs": [],
   "source": [
    " r=np.random.choice(np.arange(0,100))\n"
   ]
  },
  {
   "cell_type": "code",
   "execution_count": 89,
   "metadata": {
    "collapsed": false
   },
   "outputs": [
    {
     "data": {
      "text/plain": [
       "83"
      ]
     },
     "execution_count": 89,
     "metadata": {},
     "output_type": "execute_result"
    }
   ],
   "source": [
    "r"
   ]
  },
  {
   "cell_type": "code",
   "execution_count": null,
   "metadata": {
    "collapsed": true
   },
   "outputs": [],
   "source": [
    "def bouffer():\n",
    "    if M[i][j]//1000==2:\n",
    "        "
   ]
  }
 ],
 "metadata": {
  "kernelspec": {
   "display_name": "Python 3",
   "language": "python",
   "name": "python3"
  },
  "language_info": {
   "codemirror_mode": {
    "name": "ipython",
    "version": 3
   },
   "file_extension": ".py",
   "mimetype": "text/x-python",
   "name": "python",
   "nbconvert_exporter": "python",
   "pygments_lexer": "ipython3",
   "version": "3.4.2"
  }
 },
 "nbformat": 4,
 "nbformat_minor": 0
}
