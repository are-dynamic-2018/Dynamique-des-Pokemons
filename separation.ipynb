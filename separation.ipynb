{
 "cells": [
  {
   "cell_type": "code",
   "execution_count": 1,
   "metadata": {
    "collapsed": true
   },
   "outputs": [],
   "source": [
    "import math"
   ]
  },
  {
   "cell_type": "code",
   "execution_count": null,
   "metadata": {
    "collapsed": true
   },
   "outputs": [],
   "source": [
    "def Position(i,j):\n",
    "    if i==0 and j==0:\n",
    "        a='SupGauche'\n",
    "    if i==0 and j==len(M)-1:\n",
    "        a=SupDroit\n",
    "    if i==len(M)-1 and j==0:\n",
    "        a=InfGauche\n",
    "    if i==len(M)-1 and j==len(M)-1:\n",
    "        a=InfDroit"
   ]
  },
  {
   "cell_type": "code",
   "execution_count": null,
   "metadata": {
    "collapsed": true
   },
   "outputs": [],
   "source": [
    "def Position(i,j):\n",
    "    if i==0:\n",
    "        if j==0:\n",
    "            a=SupGauche\n",
    "        elif j==len(M)-1:\n",
    "            a=SupDroit\n",
    "    if i==len(M)-1:\n",
    "        if j==0:\n",
    "        a=InfGauche\n",
    "    if i==len(M)-1:\n",
    "        ifj==len(M)-1:\n",
    "            a=InfDroit"
   ]
  },
  {
   "cell_type": "code",
   "execution_count": null,
   "metadata": {
    "collapsed": true
   },
   "outputs": [],
   "source": [
    "#11 male et 12 femme\n",
    "def rattataM(Le):\n",
    "    for x in Le:\n",
    "        i,j=Le[x]\n",
    "        if M[i][j]%100==12:\n",
    "            R.append(x)\n",
    "        elif M[i][j]%1000==2:\n",
    "            M.append(x)\n",
    "        elif M[i][j]==0:\n",
    "            V.append(x)\n",
    "\n",
    "\n",
    "def rattataF(Le):\n",
    "    for x in Le:\n",
    "        i,j=Le[x]\n",
    "        if M[i][j]%100==11:\n",
    "            R.append(x)\n",
    "        elif M[i][j]%1000==2:\n",
    "            M.append(x)\n",
    "        elif M[i][j]==0:\n",
    "            V.append(x)\n",
    "            \n",
    "            \n",
    "            \n",
    "def mangloutonM(Le):\n",
    "    for x in Le:\n",
    "        i,j=Le[x]\n",
    "        if M[i][j]%100==22:\n",
    "            M.append(x)\n",
    "        elif M[i][j]%1000==1:\n",
    "            R.append(x)\n",
    "        elif M[i][j]==0:\n",
    "            V.append(x)\n",
    "            \n",
    "            \n",
    "            \n",
    "def mangloutonF(Le):\n",
    "    for x in Le:\n",
    "        i,j=Le[x]\n",
    "        if M[i][j]%100==21:\n",
    "            M.append(x)\n",
    "        elif M[i][j]%1000==1:\n",
    "            R.append(x)\n",
    "        elif M[i][j]==0:\n",
    "            V.append(x)"
   ]
  }
 ],
 "metadata": {
  "kernelspec": {
   "display_name": "Python 2",
   "language": "python",
   "name": "python2"
  },
  "language_info": {
   "codemirror_mode": {
    "name": "ipython",
    "version": 2
   },
   "file_extension": ".py",
   "mimetype": "text/x-python",
   "name": "python",
   "nbconvert_exporter": "python",
   "pygments_lexer": "ipython2",
   "version": "2.7.9"
  }
 },
 "nbformat": 4,
 "nbformat_minor": 0
}
