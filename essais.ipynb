{
 "cells": [
  {
   "cell_type": "markdown",
   "metadata": {},
   "source": [
    "## Deplacement d'un individu"
   ]
  },
  {
   "cell_type": "code",
   "execution_count": 17,
   "metadata": {
    "collapsed": false
   },
   "outputs": [],
   "source": [
    "import matplotlib"
   ]
  },
  {
   "cell_type": "code",
   "execution_count": 18,
   "metadata": {
    "collapsed": true
   },
   "outputs": [],
   "source": [
    "import numpy as numpy"
   ]
  },
  {
   "cell_type": "code",
   "execution_count": 38,
   "metadata": {
    "collapsed": false
   },
   "outputs": [],
   "source": [
    "import numpy as np\n",
    "#case vide\n",
    "v=0\n",
    "N=50\n",
    "M=np.zeros((N,N))\n",
    "\n"
   ]
  },
  {
   "cell_type": "code",
   "execution_count": 37,
   "metadata": {
    "collapsed": false
   },
   "outputs": [
    {
     "data": {
      "text/plain": [
       "array([[    0.,     0.,     0., ...,     0.,     0.,     0.],\n",
       "       [    0.,  1200.,  1100., ...,     0.,     0.,     0.],\n",
       "       [    0.,  1201.,  1101., ...,     0.,     0.,     0.],\n",
       "       ..., \n",
       "       [    0.,     0.,     0., ...,     0.,     0.,     0.],\n",
       "       [    0.,     0.,     0., ...,     0.,     0.,     0.],\n",
       "       [    0.,     0.,     0., ...,     0.,     0.,     0.]])"
      ]
     },
     "execution_count": 37,
     "metadata": {},
     "output_type": "execute_result"
    }
   ],
   "source": [
    "#test\n",
    "M[1][1]=1200\n",
    "M[1][2]=1100\n",
    "M\n"
   ]
  },
  {
   "cell_type": "code",
   "execution_count": 22,
   "metadata": {
    "collapsed": false
   },
   "outputs": [
    {
     "data": {
      "text/plain": [
       "(array([], dtype=int64), array([], dtype=int64))"
      ]
     },
     "execution_count": 22,
     "metadata": {},
     "output_type": "execute_result"
    }
   ],
   "source": [
    "np.where(M == 1202)"
   ]
  },
  {
   "cell_type": "code",
   "execution_count": 52,
   "metadata": {
    "collapsed": false
   },
   "outputs": [
    {
     "data": {
      "text/plain": [
       "array([[    0.,     0.,     0., ...,     0.,     0.,     0.],\n",
       "       [    0.,  1201.,  1101., ...,     0.,     0.,     0.],\n",
       "       [    0.,     0.,     0., ...,     0.,     0.,     0.],\n",
       "       ..., \n",
       "       [    0.,     0.,     0., ...,     0.,     0.,     0.],\n",
       "       [    0.,     0.,     0., ...,     0.,     0.,     0.],\n",
       "       [    0.,     0.,     0., ...,     0.,     0.,     0.]])"
      ]
     },
     "execution_count": 52,
     "metadata": {},
     "output_type": "execute_result"
    }
   ],
   "source": [
    "M=np.zeros((N,N))\n",
    "M[1][1]=1200\n",
    "M[1][2]=1100\n",
    "def vieillesse(M,i,j):\n",
    "    if M[i][j]%100==99:\n",
    "        M[i][j]=0\n",
    "    else:\n",
    "        M[i][j]=M[i][j]+1\n",
    "        n=np.random.choice(99)      \n",
    "        if M[i][j]%100>n:\n",
    "            M[i][j]=0 \n",
    "    return\n",
    "vieillesse(M,1,1)\n",
    "vieillesse(M,1,2)\n",
    "M"
   ]
  },
  {
   "cell_type": "code",
   "execution_count": 59,
   "metadata": {
    "collapsed": false
   },
   "outputs": [
    {
     "data": {
      "text/plain": [
       "'Milieu'"
      ]
     },
     "execution_count": 59,
     "metadata": {},
     "output_type": "execute_result"
    }
   ],
   "source": [
    "def position(i,j):\n",
    "    if i==0:\n",
    "        if j==0:\n",
    "            return \"CoinSupG\"\n",
    "        elif j==len(M)-1:\n",
    "            return \"CoinSupD\"\n",
    "        else:\n",
    "            return \"CotHaut\"\n",
    "    elif j==0:\n",
    "        if i==len(M)-1:\n",
    "            return \"CoinBasG\"\n",
    "        else :\n",
    "            return \"CotG\"\n",
    "    elif j==len(M)-1:\n",
    "        if i==len(M)-1:\n",
    "            return \"CoinBasD\"\n",
    "        else:\n",
    "            return \"CotD\"\n",
    "    elif i==len(M):\n",
    "        return \"CoteBas\"\n",
    "    else:\n",
    "        return \"Milieu\"\n",
    "position(1,1)"
   ]
  },
  {
   "cell_type": "code",
   "execution_count": 75,
   "metadata": {
    "collapsed": false
   },
   "outputs": [
    {
     "data": {
      "text/plain": [
       "[(0, 0), (0, 1), (0, 2), (1, 0), (1, 2), (2, 0), (2, 1), (2, 2)]"
      ]
     },
     "execution_count": 75,
     "metadata": {},
     "output_type": "execute_result"
    }
   ],
   "source": [
    "M=np.zeros((N,N))\n",
    "M[1][1]=1200\n",
    "M[1][2]=1100\n",
    "def voisin(i,j):\n",
    "    Le=[]\n",
    "    if position(i,j)==\"Milieu\":\n",
    "        Le=[(i-1,j-1),(i-1,j),(i-1,j+1),(i,j-1),(i,j+1),(i+1,j-1),(i+1,j),(i+1,j+1)]\n",
    "    elif position(i,j)==\"CoinSupG\":\n",
    "        Le=[(i,j+1),(i+1,j),(i+1,j+1)]\n",
    "    elif position(i,j)==\"CoinSupD\":\n",
    "        Le=[(i,j-1),(i+1,j),(i+1,j-1)]\n",
    "    elif position(i,j)==\"CoinBasG\":\n",
    "        Le=[(i,j+1),(i-1,j),(i-1,j+1)]\n",
    "    elif position(i,j)==\"CoinBasD\":\n",
    "        Le=[(i,j-1),(i-1,j),(i-1,j-1)]\n",
    "    elif position(i,j)==\"CotD\":\n",
    "        Le=[(i,j-1),(i-1,j),(i-1,j-1),(i+1,j),(i+1,j-1)]\n",
    "    elif position(i,j)==\"CotG\":\n",
    "        Le=[(i,j+1),(i-1,j),(i-1,j+1),(i+1,j+1)]\n",
    "    elif position(i,j)==\"CotBas\":\n",
    "        Le=[(i,j-1),(i-1,j-1),(i-1,j),(i-1,j+1),(i,j+1)]\n",
    "    elif position(i,j)==\"CotHaut\":\n",
    "        Le=[(i,j-1),(i+1,j-1),(i+1,j),(i+1,j+1),(i,j+1)]\n",
    "    return Le\n",
    "\n",
    "le=voisin(1,1)\n",
    "le"
   ]
  },
  {
   "cell_type": "code",
   "execution_count": 76,
   "metadata": {
    "collapsed": false
   },
   "outputs": [
    {
     "data": {
      "text/plain": [
       "[(1, 2)]"
      ]
     },
     "execution_count": 76,
     "metadata": {},
     "output_type": "execute_result"
    }
   ],
   "source": [
    "#11 male et 12 femme\n",
    "Vide=[]\n",
    "Ma=[]\n",
    "Ra=[]\n",
    "\n",
    "\n",
    "def rattataM(Le):\n",
    "    for x in Le:\n",
    "        i,j=x\n",
    "        if M[i][j]//1000==2:\n",
    "            Ma.append(x)\n",
    "        elif M[i][j]==0:\n",
    "            Vide.append(x)\n",
    "    return\n",
    "\n",
    "def rattataF(Le):\n",
    "    for x in Le:\n",
    "        i,j=x\n",
    "        if M[i][j]//100==11:\n",
    "            Ra.append(x)\n",
    "        elif M[i][j]//1000==2:\n",
    "            Ma.append(x)\n",
    "        elif M[i][j]==0:\n",
    "            Vide.append(x)\n",
    "    return        \n",
    "            \n",
    "            \n",
    "def mangloutonM(Le):\n",
    "    for x in Le:\n",
    "        i,j=x\n",
    "        if M[i][j]//1000==1:\n",
    "            Ra.append(x)\n",
    "        elif M[i][j]==0:\n",
    "            Vide.append(x)\n",
    "    return       \n",
    "            \n",
    "            \n",
    "def mangloutonF(Le):\n",
    "    for x in Le:\n",
    "        i,j=x\n",
    "        if M[i][j]//100==21:\n",
    "            Ma.append(x)\n",
    "        elif M[i][j]//1000==1:\n",
    "            Ra.append(x)\n",
    "        elif M[i][j]==0:\n",
    "            Vide.append(x)\n",
    "    return\n",
    "\n",
    "rattataF(le)\n",
    "Ra"
   ]
  },
  {
   "cell_type": "code",
   "execution_count": 35,
   "metadata": {
    "collapsed": true
   },
   "outputs": [],
   "source": [
    "def simulation(M):\n",
    "    for i in range(0,len(M)):\n",
    "        for j in range(0,len(M)):\n",
    "            Ra=[]\n",
    "            Ma=[]\n",
    "            Vide=[]\n",
    "            Le=voisin(i,j)\n",
    "            if M[i][j]//1000==1 and M[i][j]//100==11:\n",
    "                rattataM(Le)\n",
    "            elif M[i][j]//1000==1 and M[i][j]//100==12:   \n",
    "                rattataF(Le)\n",
    "            elif M[i][j]//1000==2 and M[i][j]//100==11:\n",
    "                mangloutonM(Le)\n",
    "            elif M[i][j]//1000==2 and M[i][j]//100==12:\n",
    "                mangloutonF(Le)"
   ]
  },
  {
   "cell_type": "code",
   "execution_count": null,
   "metadata": {
    "collapsed": true
   },
   "outputs": [],
   "source": [
    "  M=[),(i+1,j+1),(i,j+1)]"
   ]
  },
  {
   "cell_type": "code",
   "execution_count": null,
   "metadata": {
    "collapsed": false
   },
   "outputs": [],
   "source": [
    " r=np.random.choice(np.arange(0,100))\n"
   ]
  },
  {
   "cell_type": "code",
   "execution_count": null,
   "metadata": {
    "collapsed": false
   },
   "outputs": [],
   "source": [
    "r"
   ]
  },
  {
   "cell_type": "code",
   "execution_count": null,
   "metadata": {
    "collapsed": true
   },
   "outputs": [],
   "source": [
    "def bouffer():\n",
    "    if M[i][j]//1000==2:\n",
    "        "
   ]
  }
 ],
 "metadata": {
  "kernelspec": {
   "display_name": "Python 3",
   "language": "python",
   "name": "python3"
  },
  "language_info": {
   "codemirror_mode": {
    "name": "ipython",
    "version": 3
   },
   "file_extension": ".py",
   "mimetype": "text/x-python",
   "name": "python",
   "nbconvert_exporter": "python",
   "pygments_lexer": "ipython3",
   "version": "3.4.2"
  }
 },
 "nbformat": 4,
 "nbformat_minor": 0
}
