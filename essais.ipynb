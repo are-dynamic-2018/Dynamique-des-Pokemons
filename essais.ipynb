{
 "cells": [
  {
   "cell_type": "markdown",
   "metadata": {},
   "source": [
    "## Deplacement d'un individu"
   ]
  },
  {
   "cell_type": "code",
   "execution_count": 1,
   "metadata": {
    "collapsed": false
   },
   "outputs": [],
   "source": [
    "import matplotlib"
   ]
  },
  {
   "cell_type": "code",
   "execution_count": 2,
   "metadata": {
    "collapsed": true
   },
   "outputs": [],
   "source": [
    "#les identifiants des pokemons:\n",
    "#11**:rattata male\n",
    "#12**:rattata femelle\n",
    "#21**:manglouton male\n",
    "#22**:manglouton femelle\n",
    "#31**:rattatac male\n",
    "#32**:rattatac femelle\n",
    "#41**:argouste male\n",
    "#42**:argouste femelle\n",
    "#** représente l'âge de l'individu"
   ]
  },
  {
   "cell_type": "code",
   "execution_count": 3,
   "metadata": {
    "collapsed": true
   },
   "outputs": [],
   "source": [
    "import numpy as numpy"
   ]
  },
  {
   "cell_type": "code",
   "execution_count": 4,
   "metadata": {
    "collapsed": false
   },
   "outputs": [],
   "source": [
    "import numpy as np\n",
    "#case vide\n",
    "v=0\n",
    "N=50\n",
    "M=np.zeros((N,N))\n",
    "\n"
   ]
  },
  {
   "cell_type": "code",
   "execution_count": 5,
   "metadata": {
    "collapsed": false
   },
   "outputs": [
    {
     "data": {
      "text/plain": [
       "array([[    0.,     0.,     0., ...,     0.,     0.,     0.],\n",
       "       [    0.,  1200.,  1100., ...,     0.,     0.,     0.],\n",
       "       [    0.,     0.,     0., ...,     0.,     0.,     0.],\n",
       "       ..., \n",
       "       [    0.,     0.,     0., ...,     0.,     0.,     0.],\n",
       "       [    0.,     0.,     0., ...,     0.,     0.,     0.],\n",
       "       [    0.,     0.,     0., ...,     0.,     0.,     0.]])"
      ]
     },
     "execution_count": 5,
     "metadata": {},
     "output_type": "execute_result"
    }
   ],
   "source": [
    "#test\n",
    "M[1][1]=1200\n",
    "M[1][2]=1100\n",
    "M\n"
   ]
  },
  {
   "cell_type": "code",
   "execution_count": 6,
   "metadata": {
    "collapsed": false
   },
   "outputs": [
    {
     "data": {
      "text/plain": [
       "(array([], dtype=int64), array([], dtype=int64))"
      ]
     },
     "execution_count": 6,
     "metadata": {},
     "output_type": "execute_result"
    }
   ],
   "source": [
    "np.where(M == 1202)"
   ]
  },
  {
   "cell_type": "code",
   "execution_count": 7,
   "metadata": {
    "collapsed": false
   },
   "outputs": [
    {
     "data": {
      "text/plain": [
       "array([[    0.,     0.,     0., ...,     0.,     0.,     0.],\n",
       "       [    0.,  1201.,  1101., ...,     0.,     0.,     0.],\n",
       "       [    0.,     0.,     0., ...,     0.,     0.,     0.],\n",
       "       ..., \n",
       "       [    0.,     0.,     0., ...,     0.,     0.,     0.],\n",
       "       [    0.,     0.,     0., ...,     0.,     0.,     0.],\n",
       "       [    0.,     0.,     0., ...,     0.,     0.,     0.]])"
      ]
     },
     "execution_count": 7,
     "metadata": {},
     "output_type": "execute_result"
    }
   ],
   "source": [
    "M=np.zeros((N,N))\n",
    "M[1][1]=1200\n",
    "M[1][2]=1100\n",
    "def vieillesse(M,i,j):\n",
    "    if M[i][j]%100==99:\n",
    "        M[i][j]=0\n",
    "    else:\n",
    "        M[i][j]=M[i][j]+1\n",
    "        n=np.random.choice(99)      \n",
    "        if M[i][j]%100>n:\n",
    "            M[i][j]=0 \n",
    "    return\n",
    "vieillesse(M,1,1)\n",
    "vieillesse(M,1,2)\n",
    "M"
   ]
  },
  {
   "cell_type": "code",
   "execution_count": 8,
   "metadata": {
    "collapsed": false
   },
   "outputs": [
    {
     "data": {
      "text/plain": [
       "'Milieu'"
      ]
     },
     "execution_count": 8,
     "metadata": {},
     "output_type": "execute_result"
    }
   ],
   "source": [
    "def position(i,j):\n",
    "    if i==0:\n",
    "        if j==0:\n",
    "            return \"CoinSupG\"\n",
    "        elif j==len(M)-1:\n",
    "            return \"CoinSupD\"\n",
    "        else:\n",
    "            return \"CotHaut\"\n",
    "    elif j==0:\n",
    "        if i==len(M)-1:\n",
    "            return \"CoinBasG\"\n",
    "        else :\n",
    "            return \"CotG\"\n",
    "    elif j==len(M)-1:\n",
    "        if i==len(M)-1:\n",
    "            return \"CoinBasD\"\n",
    "        else:\n",
    "            return \"CotD\"\n",
    "    elif i==len(M):\n",
    "        return \"CoteBas\"\n",
    "    else:\n",
    "        return \"Milieu\"\n",
    "position(1,1)"
   ]
  },
  {
   "cell_type": "code",
   "execution_count": 9,
   "metadata": {
    "collapsed": false
   },
   "outputs": [
    {
     "data": {
      "text/plain": [
       "[(0, 0), (0, 1), (0, 2), (1, 0), (1, 2), (2, 0), (2, 1), (2, 2)]"
      ]
     },
     "execution_count": 9,
     "metadata": {},
     "output_type": "execute_result"
    }
   ],
   "source": [
    "M=np.zeros((N,N))\n",
    "M[1][1]=1200\n",
    "M[1][2]=1100\n",
    "def voisin(i,j):\n",
    "    Le=[]#environnement\n",
    "    if position(i,j)==\"Milieu\":\n",
    "        Le=[(i-1,j-1),(i-1,j),(i-1,j+1),(i,j-1),(i,j+1),(i+1,j-1),(i+1,j),(i+1,j+1)]\n",
    "    elif position(i,j)==\"CoinSupG\":\n",
    "        Le=[(i,j+1),(i+1,j),(i+1,j+1)]\n",
    "    elif position(i,j)==\"CoinSupD\":\n",
    "        Le=[(i,j-1),(i+1,j),(i+1,j-1)]\n",
    "    elif position(i,j)==\"CoinBasG\":\n",
    "        Le=[(i,j+1),(i-1,j),(i-1,j+1)]\n",
    "    elif position(i,j)==\"CoinBasD\":\n",
    "        Le=[(i,j-1),(i-1,j),(i-1,j-1)]\n",
    "    elif position(i,j)==\"CotD\":\n",
    "        Le=[(i,j-1),(i-1,j),(i-1,j-1),(i+1,j),(i+1,j-1)]\n",
    "    elif position(i,j)==\"CotG\":\n",
    "        Le=[(i,j+1),(i-1,j),(i-1,j+1),(i+1,j+1)]\n",
    "    elif position(i,j)==\"CotBas\":\n",
    "        Le=[(i,j-1),(i-1,j-1),(i-1,j),(i-1,j+1),(i,j+1)]\n",
    "    elif position(i,j)==\"CotHaut\":\n",
    "        Le=[(i,j-1),(i+1,j-1),(i+1,j),(i+1,j+1),(i,j+1)]\n",
    "    return Le\n",
    "\n",
    "le=voisin(1,1)\n",
    "le"
   ]
  },
  {
   "cell_type": "code",
   "execution_count": 12,
   "metadata": {
    "collapsed": false
   },
   "outputs": [
    {
     "data": {
      "text/plain": [
       "[(1, 2)]"
      ]
     },
     "execution_count": 12,
     "metadata": {},
     "output_type": "execute_result"
    }
   ],
   "source": [
    "\n",
    "Vide=[]#liste des emplacements vides aux alentours\n",
    "Ma=[]#liste des Mangloutons aux alentours\n",
    "#Ra=[]#liste des Rattatas aux alentours\n",
    "Ar=[]#liste des Argoustes aux alentours\n",
    "#Rac=[]#liste des Rattatacs aux alentours\n",
    "acc=[]#liste des potentiels partenaires pour l'accouplement\n",
    "\n",
    "\n",
    "def rattataM(Le):\n",
    "    for x in Le:\n",
    "        i,j=x\n",
    "        if M[i][j]//1000==2:\n",
    "            Ma.append(x)\n",
    "        elif M[i][j]//1000==4:\n",
    "            Ar.append(x)\n",
    "        elif M[i][j]==0:\n",
    "            Vide.append(x)\n",
    "    return\n",
    "\n",
    "def rattataF(Le):\n",
    "    for x in Le:\n",
    "        i,j=x\n",
    "        if M[i][j]//100==11 or M[i][j]//100==31:\n",
    "            acc.append(x)\n",
    "        elif M[i][j]//1000==2:\n",
    "            Ma.append(x)\n",
    "        elif M[i][j]//1000==4:\n",
    "            Ar.append(x)\n",
    "        elif M[i][j]==0:\n",
    "            Vide.append(x)\n",
    "    return        \n",
    "\n",
    "def rattatacM(Le):\n",
    "    for x in Le:\n",
    "        i,j=x\n",
    "        if M[i][j]//1000==4:\n",
    "            Ar.append(x)\n",
    "        elif M[i][j]==0:\n",
    "            Vide.append(x)\n",
    "    return\n",
    "\n",
    "def rattatacF(Le):\n",
    "    for x in Le:\n",
    "        i,j=x\n",
    "        if M[i][j]//1000==4:\n",
    "            Ar.append(x)\n",
    "        elif M[i][j]//100==11 or M[i][j]//100==31:\n",
    "            acc.append(x)\n",
    "        elif M[i][j]==0:\n",
    "            Vide.append(x)\n",
    "    return\n",
    "            \n",
    "def mangloutonM(Le):\n",
    "    for x in Le:\n",
    "        i,j=x\n",
    "        if M[i][j]==0:\n",
    "            Vide.append(x)\n",
    "    return       \n",
    "            \n",
    "            \n",
    "def mangloutonF(Le):\n",
    "    for x in Le:\n",
    "        i,j=x\n",
    "        if M[i][j]//100==21 or M[i][j]//100==41:\n",
    "            acc.append(x)\n",
    "        elif M[i][j]==0:\n",
    "            Vide.append(x)\n",
    "    return\n",
    "\n",
    "def argousteM(Le):\n",
    "    for x in Le:\n",
    "        i,j=x\n",
    "        if M[i][j]==0:\n",
    "            Vide.append(x)\n",
    "    return\n",
    "\n",
    "def argousteF(Le):\n",
    "    for x in Le:\n",
    "        i,j=x\n",
    "        if M[i][j]==0:\n",
    "            Vide.append(x)\n",
    "        elif M[i][j]//100==21 or M[i][j]//100==41:\n",
    "            acc.append(x)\n",
    "    return\n",
    "\n",
    "rattataF(le)\n",
    "acc\n"
   ]
  },
  {
   "cell_type": "code",
   "execution_count": 57,
   "metadata": {
    "collapsed": false
   },
   "outputs": [],
   "source": [
    "Vide=[]#liste des emplacements vides aux alentours\n",
    "Ma=[]#liste des Mangloutons aux alentours\n",
    "#Ra=[]#liste des Rattatas aux alentours\n",
    "Ar=[]#liste des Argoustes aux alentours\n",
    "#Rac=[]#liste des Rattatacs aux alentours\n",
    "acc=[]#liste des potentiels partenaires pour l'accouplement\n",
    "\n",
    "def evolution(i,j):\n",
    "    if M[i][j]%100>=20 and (M[i][j]//1000==1 or M[i][j]//1000==2):\n",
    "        n=np.random.choice(np.arange(0,10))\n",
    "        if n*(M[i][j]%100-10)>50:\n",
    "            M[i][j]=2000+M[i][j]\n",
    "    return        \n",
    "def manger(Ma,Ar,M,i,j):\n",
    "    n=np.random.choice(np.arange(0,100))\n",
    "    if M[i][j]//1000==1:\n",
    "        if n<10*(len(Ma)+len(Ar)):\n",
    "            M[i][j]=0\n",
    "    elif M[i][j]//1000==3:\n",
    "        if n<10*len(Ma):\n",
    "            M[i][j]=0\n",
    "    return i,j\n",
    "\n",
    "def accouplement(i,j):\n",
    "    n=np.random.choice(np.arange(0,100))\n",
    "    if len(acc)*10 > n:\n",
    "        e=np.random.choice(np.arange(0,len(Vide)))\n",
    "        sexe=np.random.choice(np.arange(1,2))\n",
    "        x,y=Vide[e]\n",
    "        M[x,y]=M[i][j]//1000+sexe*100\n",
    "    return\n",
    "                       \n",
    "def deplacement(i,j):\n",
    "    e=np.random.choice(np.arrange(0,len(Vide)))\n",
    "    x,y=Vide[e]\n",
    "    M[x,y]=M[i][j]\n",
    "    M[i][j]=0    \n",
    "    return    \n",
    "\n",
    "def regroupement(M,Vide,i,j):\n",
    "    Voisin2=[]\n",
    "    c=0\n",
    "    Rattatac=[]\n",
    "    for s in Vide:\n",
    "        c=0\n",
    "        x,y=s\n",
    "        if x==i-1 and y==j-1:\n",
    "            Voisin2=[(i-2,j-2),(i-2,j-1),(i-2,j),(i-1,j-2),(i-1,j),(i,j-2),(i,j-1)]\n",
    "            for m in Voisin2:\n",
    "                a,b=m\n",
    "                if M[a][b]//1000==3:\n",
    "                    c=c+1\n",
    "                    if c==1:\n",
    "                        Rattatac.append[m]\n",
    "        if x==i-1 and y==j:\n",
    "            Voisin2=[(i-2,j-1),(i-2,j),(i-2,j+1),(i-1,j-1),(i-1,j+1),(i,j-1),(i,j+1)]\n",
    "            for m in Voisin2:\n",
    "                a,b=m\n",
    "                if M[a][b]//1000==3:\n",
    "                    c=c+1\n",
    "        if x==i-1 and y==j+1:\n",
    "            Voisin2=[(i-2,j),(i-2,j+1),(i-2,j+2),(i-1,j),(i-1,j+2),(i,j+1),(i,j+2)]\n",
    "            for m in Voisin2:\n",
    "                a,b=m\n",
    "                if M[a][b]//1000==3:\n",
    "                    c=c+1\n",
    "                    if c==1:\n",
    "                        Rattatac.append[m]\n",
    "        if x==i and y==j-1:\n",
    "            Voisin2=[(i-1,j-2),(i-1,j-1),(i-1,j),(i,j-2),(i+1,j-2),(i+1,j-1),(i+1,j)]\n",
    "            for m in Voisin2:\n",
    "                a,b=m\n",
    "                if M[a][b]//1000==3:\n",
    "                    c=c+1\n",
    "                    if c==1:\n",
    "                        Rattatac.append[m]\n",
    "        if x==i and y==j+1:\n",
    "            Voisin2=[(i-1,j),(i-1,j+1),(i-1,j+2),(i,j+2),(i+1,j),(i+1,j+1),(i+1,j+2)]\n",
    "            for m in Voisin2:\n",
    "                a,b=m\n",
    "                if M[a][b]//1000==3:\n",
    "                    c=c+1\n",
    "                    if c==1:\n",
    "                        Rattatac.append[m]\n",
    "        if x==i+1 and y==j-1:\n",
    "            Voisin2=[(i,j-2),(i,j-1),(i+1,j-2),(i+1,j),(i+2,j-2),(i+2,j-1),(i+2,j)]\n",
    "            for m in Voisin2:\n",
    "                a,b=m\n",
    "                if M[a][b]//1000==3:\n",
    "                    c=c+1\n",
    "                    if c==1:\n",
    "                        Rattatac.append[m]\n",
    "        if x==i+1 and y==j:\n",
    "            Voisin2=[(i,j-1),(i,j+1),(i+1,j-1),(i+1,j+1),(i+2,j-1),(i+2,j),(i+2,j+1)]\n",
    "            for m in Voisin2:\n",
    "                a,b=m\n",
    "                if M[a][b]//1000==3:\n",
    "                    c=c+1\n",
    "                    if c==1:\n",
    "                        Rattatac.append[m]\n",
    "        if x==i+1 and y==j+1:\n",
    "            Voisin2=[(i,j+1),(i,j+2),(i+1,j),(i+1,j+2),(i+2,j),(i+2,j+1),(i+2,j+2)]\n",
    "            for m in Voisin2:\n",
    "                a,b=m\n",
    "                if M[a][b]//1000==3:\n",
    "                    c=c+1\n",
    "                    if c==1:\n",
    "                        Rattatac.append[m]                       "
   ]
  },
  {
   "cell_type": "code",
   "execution_count": 62,
   "metadata": {
    "collapsed": false
   },
   "outputs": [
    {
     "data": {
      "text/plain": [
       "array([[ 3200.,  3178.,  4153., ...,  3153.,  2169.,  1221.],\n",
       "       [ 2132.,  3158.,  1268., ...,  4179.,  1251.,  4254.],\n",
       "       [ 4174.,  3272.,  4239., ...,  1145.,  3207.,  3256.],\n",
       "       ..., \n",
       "       [ 3190.,  3192.,  1149., ...,  3213.,  3142.,  4213.],\n",
       "       [ 4297.,  2194.,  2138., ...,  4232.,  1196.,  3122.],\n",
       "       [ 1277.,  3258.,  4146., ...,  2158.,  1115.,  4112.]])"
      ]
     },
     "execution_count": 62,
     "metadata": {},
     "output_type": "execute_result"
    }
   ],
   "source": [
    "def matrice_alea():\n",
    "    N=50\n",
    "    M=np.zeros((N,N))\n",
    "    for i in range (0,N):\n",
    "        for j in range (0,N):\n",
    "            al_e=np.random.choice(np.arange(0,4))\n",
    "            al_s=np.random.choice(np.arange(1,3))\n",
    "            al_a=np.random.choice(np.arange(0,100))\n",
    "            if al_e==0:\n",
    "                M[i][j]=1000+al_s*100+al_a\n",
    "            elif al_e==1:\n",
    "                M[i][j]=2000+al_s*100+al_a\n",
    "            elif al_e==2:\n",
    "                M[i][j]=3000+al_s*100+al_a\n",
    "            elif al_e==3:\n",
    "                M[i][j]=4000+al_s*100+al_a\n",
    "    return M\n",
    "Matrice=matrice_alea()\n",
    "Matrice"
   ]
  },
  {
   "cell_type": "code",
   "execution_count": 63,
   "metadata": {
    "collapsed": false
   },
   "outputs": [
    {
     "ename": "IndexError",
     "evalue": "index 50 is out of bounds for axis 0 with size 50",
     "output_type": "error",
     "traceback": [
      "\u001b[0;31m---------------------------------------------------------------------------\u001b[0m",
      "\u001b[0;31mIndexError\u001b[0m                                Traceback (most recent call last)",
      "\u001b[0;32m<ipython-input-63-c2bf14902a2e>\u001b[0m in \u001b[0;36m<module>\u001b[0;34m()\u001b[0m\n\u001b[1;32m     33\u001b[0m             \u001b[0mevolution\u001b[0m\u001b[0;34m(\u001b[0m\u001b[0mi\u001b[0m\u001b[0;34m,\u001b[0m\u001b[0mj\u001b[0m\u001b[0;34m)\u001b[0m\u001b[0;34m\u001b[0m\u001b[0m\n\u001b[1;32m     34\u001b[0m             \u001b[0mvieillesse\u001b[0m\u001b[0;34m(\u001b[0m\u001b[0mM\u001b[0m\u001b[0;34m,\u001b[0m\u001b[0mi\u001b[0m\u001b[0;34m,\u001b[0m\u001b[0mj\u001b[0m\u001b[0;34m)\u001b[0m\u001b[0;34m\u001b[0m\u001b[0m\n\u001b[0;32m---> 35\u001b[0;31m \u001b[0mm\u001b[0m\u001b[0;34m=\u001b[0m\u001b[0msimulation\u001b[0m\u001b[0;34m(\u001b[0m\u001b[0mM\u001b[0m\u001b[0;34m)\u001b[0m\u001b[0;34m\u001b[0m\u001b[0m\n\u001b[0m",
      "\u001b[0;32m<ipython-input-63-c2bf14902a2e>\u001b[0m in \u001b[0;36msimulation\u001b[0;34m(M)\u001b[0m\n\u001b[1;32m     22\u001b[0m                 \u001b[0mmangloutonF\u001b[0m\u001b[0;34m(\u001b[0m\u001b[0mLe\u001b[0m\u001b[0;34m)\u001b[0m\u001b[0;34m\u001b[0m\u001b[0m\n\u001b[1;32m     23\u001b[0m             \u001b[0;32melif\u001b[0m \u001b[0mM\u001b[0m\u001b[0;34m[\u001b[0m\u001b[0mi\u001b[0m\u001b[0;34m]\u001b[0m\u001b[0;34m[\u001b[0m\u001b[0mj\u001b[0m\u001b[0;34m]\u001b[0m\u001b[0;34m//\u001b[0m\u001b[0;36m100\u001b[0m\u001b[0;34m==\u001b[0m\u001b[0;36m41\u001b[0m\u001b[0;34m:\u001b[0m\u001b[0;34m\u001b[0m\u001b[0m\n\u001b[0;32m---> 24\u001b[0;31m                 \u001b[0margousteM\u001b[0m\u001b[0;34m(\u001b[0m\u001b[0mLe\u001b[0m\u001b[0;34m)\u001b[0m\u001b[0;34m\u001b[0m\u001b[0m\n\u001b[0m\u001b[1;32m     25\u001b[0m             \u001b[0;32melif\u001b[0m \u001b[0mM\u001b[0m\u001b[0;34m[\u001b[0m\u001b[0mi\u001b[0m\u001b[0;34m]\u001b[0m\u001b[0;34m[\u001b[0m\u001b[0mj\u001b[0m\u001b[0;34m]\u001b[0m\u001b[0;34m//\u001b[0m\u001b[0;36m100\u001b[0m\u001b[0;34m==\u001b[0m\u001b[0;36m42\u001b[0m\u001b[0;34m:\u001b[0m\u001b[0;34m\u001b[0m\u001b[0m\n\u001b[1;32m     26\u001b[0m                 \u001b[0margousteF\u001b[0m\u001b[0;34m(\u001b[0m\u001b[0mLe\u001b[0m\u001b[0;34m)\u001b[0m\u001b[0;34m\u001b[0m\u001b[0m\n",
      "\u001b[0;32m<ipython-input-12-9181db7dddd2>\u001b[0m in \u001b[0;36margousteM\u001b[0;34m(Le)\u001b[0m\n\u001b[1;32m     72\u001b[0m     \u001b[0;32mfor\u001b[0m \u001b[0mx\u001b[0m \u001b[0;32min\u001b[0m \u001b[0mLe\u001b[0m\u001b[0;34m:\u001b[0m\u001b[0;34m\u001b[0m\u001b[0m\n\u001b[1;32m     73\u001b[0m         \u001b[0mi\u001b[0m\u001b[0;34m,\u001b[0m\u001b[0mj\u001b[0m\u001b[0;34m=\u001b[0m\u001b[0mx\u001b[0m\u001b[0;34m\u001b[0m\u001b[0m\n\u001b[0;32m---> 74\u001b[0;31m         \u001b[0;32mif\u001b[0m \u001b[0mM\u001b[0m\u001b[0;34m[\u001b[0m\u001b[0mi\u001b[0m\u001b[0;34m]\u001b[0m\u001b[0;34m[\u001b[0m\u001b[0mj\u001b[0m\u001b[0;34m]\u001b[0m\u001b[0;34m==\u001b[0m\u001b[0;36m0\u001b[0m\u001b[0;34m:\u001b[0m\u001b[0;34m\u001b[0m\u001b[0m\n\u001b[0m\u001b[1;32m     75\u001b[0m             \u001b[0mVide\u001b[0m\u001b[0;34m.\u001b[0m\u001b[0mappend\u001b[0m\u001b[0;34m(\u001b[0m\u001b[0mx\u001b[0m\u001b[0;34m)\u001b[0m\u001b[0;34m\u001b[0m\u001b[0m\n\u001b[1;32m     76\u001b[0m     \u001b[0;32mreturn\u001b[0m\u001b[0;34m\u001b[0m\u001b[0m\n",
      "\u001b[0;31mIndexError\u001b[0m: index 50 is out of bounds for axis 0 with size 50"
     ]
    }
   ],
   "source": [
    "\n",
    "def simulation(M):\n",
    "    M=matrice_alea()\n",
    "    for i in range(0,len(M)):\n",
    "        for j in range(0,len(M)):\n",
    "            acc=[]\n",
    "            Ma=[]\n",
    "            Ar=[]\n",
    "            Vide=[]\n",
    "            Le=voisin(i,j)\n",
    "            if M[i][j]//100==11:\n",
    "                rattataM(Le)\n",
    "            elif M[i][j]//100==12:   \n",
    "                rattataF(Le)\n",
    "            elif M[i][j]//100==31:\n",
    "                rattatacM(Le)\n",
    "            elif M[i][j]//100==32:\n",
    "                rattatacF(Le)\n",
    "            elif M[i][j]//100==21:\n",
    "                mangloutonM(Le)\n",
    "            elif M[i][j]//100==22:\n",
    "                mangloutonF(Le)\n",
    "            elif M[i][j]//100==41:\n",
    "                argousteM(Le)\n",
    "            elif M[i][j]//100==42:\n",
    "                argousteF(Le)\n",
    "            if len(Ma)>0 or len(Ar)>0:\n",
    "                manger(Ma,Ar,M,i,j)\n",
    "            elif len(acc)>0 and len(Vide)>0:\n",
    "                accouplement() \n",
    "            elif len(Vide)>0:\n",
    "                deplacement()\n",
    "            evolution(i,j)\n",
    "            vieillesse(M,i,j)\n",
    "m=simulation(M)"
   ]
  },
  {
   "cell_type": "code",
   "execution_count": null,
   "metadata": {
    "collapsed": true
   },
   "outputs": [],
   "source": [
    "  M=[),(i+1,j+1),(i,j+1)]"
   ]
  },
  {
   "cell_type": "code",
   "execution_count": 16,
   "metadata": {
    "collapsed": false
   },
   "outputs": [
    {
     "data": {
      "text/plain": [
       "2"
      ]
     },
     "execution_count": 16,
     "metadata": {},
     "output_type": "execute_result"
    }
   ],
   "source": [
    " np.random.choice(np.arange(0,3))\n"
   ]
  },
  {
   "cell_type": "code",
   "execution_count": 17,
   "metadata": {
    "collapsed": false
   },
   "outputs": [
    {
     "data": {
      "text/plain": [
       "8"
      ]
     },
     "execution_count": 17,
     "metadata": {},
     "output_type": "execute_result"
    }
   ],
   "source": [
    "np.random.choice(99)\n"
   ]
  },
  {
   "cell_type": "code",
   "execution_count": 34,
   "metadata": {
    "collapsed": false
   },
   "outputs": [
    {
     "data": {
      "text/plain": [
       "1"
      ]
     },
     "execution_count": 34,
     "metadata": {},
     "output_type": "execute_result"
    }
   ],
   "source": [
    " np.random.choice(np.arange(1,3))"
   ]
  },
  {
   "cell_type": "code",
   "execution_count": 40,
   "metadata": {
    "collapsed": false
   },
   "outputs": [
    {
     "data": {
      "text/plain": [
       "0"
      ]
     },
     "execution_count": 40,
     "metadata": {},
     "output_type": "execute_result"
    }
   ],
   "source": [
    "np.random.choice(np.arange(0,4))"
   ]
  },
  {
   "cell_type": "code",
   "execution_count": null,
   "metadata": {
    "collapsed": true
   },
   "outputs": [],
   "source": [
    "import matplotlib.pyplot as plt\n",
    "size = np.array(cells.shape)\n",
    "dpi = 50.0\n",
    "figsize= size[1]/float(dpi),size[0]/float(dpi)\n",
    "fig = plt.figure(figsize = figsize, dpi = dpi, facecolor = \"white\")\n",
    "fig.add_axes([0.0, 0.0, 1.0, 1.0], frameon = False)\n",
    "im=plt.imshow(cells, interpolation = 'nearest', cmap = plt.cm.gray_r)\n",
    "plt.xticks([]), plt.yticks([])\n",
    "\n",
    "import matplotlib.animation as a\n",
    "def update():\n",
    "    iterate(cells)\n",
    "    im.set_array(cells)\n",
    "    return im,\n",
    "\n",
    "ani = a.FuncAnimation(fig, update, frames=range(20), interval=50)\n",
    "plt.show()"
   ]
  }
 ],
 "metadata": {
  "kernelspec": {
   "display_name": "Python 3",
   "language": "python",
   "name": "python3"
  },
  "language_info": {
   "codemirror_mode": {
    "name": "ipython",
    "version": 3
   },
   "file_extension": ".py",
   "mimetype": "text/x-python",
   "name": "python",
   "nbconvert_exporter": "python",
   "pygments_lexer": "ipython3",
   "version": "3.4.2"
  }
 },
 "nbformat": 4,
 "nbformat_minor": 0
}
